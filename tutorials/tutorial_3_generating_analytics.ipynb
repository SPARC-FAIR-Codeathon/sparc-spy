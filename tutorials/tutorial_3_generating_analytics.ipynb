{
 "cells": [
  {
   "cell_type": "markdown",
   "id": "d03514c760d3a4eb",
   "metadata": {
    "collapsed": false
   },
   "source": [
    "# Tutorial 3: Generating analytics"
   ]
  },
  {
   "cell_type": "markdown",
   "id": "de794115954b0e1d",
   "metadata": {
    "collapsed": false
   },
   "source": [
    "In this tutorial, you will learn how to generate an analysis of the visualised scaffolds. "
   ]
  },
  {
   "cell_type": "markdown",
   "id": "9dd19f8d8572a6c5",
   "metadata": {
    "collapsed": false
   },
   "source": [
    "## Setting up\n",
    "\n",
    "You should ensure that you have all dependencies installed as outlined in tutorial 1. \n"
   ]
  }
 ],
 "metadata": {
  "kernelspec": {
   "display_name": "Python 3",
   "language": "python",
   "name": "python3"
  },
  "language_info": {
   "codemirror_mode": {
    "name": "ipython",
    "version": 2
   },
   "file_extension": ".py",
   "mimetype": "text/x-python",
   "name": "python",
   "nbconvert_exporter": "python",
   "pygments_lexer": "ipython2",
   "version": "2.7.6"
  }
 },
 "nbformat": 4,
 "nbformat_minor": 5
}
