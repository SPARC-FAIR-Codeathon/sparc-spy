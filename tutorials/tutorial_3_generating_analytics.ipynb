{
 "cells": [
  {
   "cell_type": "markdown",
   "id": "d03514c760d3a4eb",
   "metadata": {
    "collapsed": false
   },
   "source": [
    "# Tutorial 3: Generating analytics"
   ]
  },
  {
   "cell_type": "markdown",
   "id": "de794115954b0e1d",
   "metadata": {
    "collapsed": false
   },
   "source": [
    "In this tutorial, you will learn how to generate an analysis of the visualised scaffolds. "
   ]
  },
  {
   "cell_type": "markdown",
   "id": "878b8ba0",
   "metadata": {},
   "source": [
    "The example we will use in this tutorial is from [Scaffold map - Anterograde tracing of spinal afferent innervation in flat-mounts of the rat stomach](https://sparc.science/datasets/397?type=dataset)  \n",
    "\n",
    "This scaffold contains field data of the innervation density distribution field which can be easily interpolated over the mesh and visualised using the following steps. "
   ]
  },
  {
   "cell_type": "markdown",
   "id": "9dd19f8d8572a6c5",
   "metadata": {
    "collapsed": false
   },
   "source": [
    "## Step 0) Setting up\n",
    "\n",
    "You should ensure that you have all dependencies installed as outlined in tutorial 1. \n"
   ]
  },
  {
   "cell_type": "markdown",
   "id": "a6084bc2",
   "metadata": {},
   "source": [
    "## Step 1) Import the Scaffold Class"
   ]
  },
  {
   "cell_type": "code",
   "execution_count": null,
   "id": "161c046a",
   "metadata": {},
   "outputs": [],
   "source": [
    "from sparc_spy.scaffold import Scaffold"
   ]
  },
  {
   "cell_type": "markdown",
   "id": "314d7860",
   "metadata": {},
   "source": [
    "## Step 2) Generate a Scaffold of the Rat Stomach"
   ]
  },
  {
   "cell_type": "code",
   "execution_count": null,
   "id": "128cb2ce",
   "metadata": {},
   "outputs": [],
   "source": [
    "scaffold = Scaffold(\"rat_intervension\", derivative_dir=\"example/density_innervation/derivative/sub-112\")"
   ]
  },
  {
   "cell_type": "markdown",
   "id": "ff0f3ae1",
   "metadata": {},
   "source": [
    "# Step 3) Plot  \n",
    "\n",
    "The Field data will be automatically interpolated over the surface in the case where the scaffold contains measurements such as the innervation density in the case of this scaffold. The innervation density, with purple represents the areas with dense innervation and yellow areas are sparse in innervation."
   ]
  },
  {
   "cell_type": "code",
   "execution_count": null,
   "id": "75421878",
   "metadata": {},
   "outputs": [],
   "source": [
    "scaffold.plot()"
   ]
  }
 ],
 "metadata": {
  "kernelspec": {
   "display_name": "Python 3",
   "language": "python",
   "name": "python3"
  },
  "language_info": {
   "codemirror_mode": {
    "name": "ipython",
    "version": 3
   },
   "file_extension": ".py",
   "mimetype": "text/x-python",
   "name": "python",
   "nbconvert_exporter": "python",
   "pygments_lexer": "ipython3",
   "version": "3.9.6"
  }
 },
 "nbformat": 4,
 "nbformat_minor": 5
}
