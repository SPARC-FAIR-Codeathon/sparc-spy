{
 "cells": [
  {
   "cell_type": "markdown",
   "id": "d03514c760d3a4eb",
   "metadata": {
    "collapsed": false
   },
   "source": [
    "# Tutorial 5: Into the flow"
   ]
  },
  {
   "cell_type": "markdown",
   "id": "698e9391",
   "metadata": {},
   "source": [
    "In this tutorial, you will learn how to incporporate scaffold visualisation into a workflow. "
   ]
  },
  {
   "cell_type": "markdown",
   "id": "6821c3d8",
   "metadata": {},
   "source": [
    "## Setting up\n",
    "\n",
    "Tutorial 5 is hosted on oSPARC and can be found here: \n"
   ]
  },
  {
   "cell_type": "markdown",
   "id": "069e9693",
   "metadata": {},
   "source": []
  }
 ],
 "metadata": {
  "kernelspec": {
   "display_name": "Python 3",
   "language": "python",
   "name": "python3"
  },
  "language_info": {
   "codemirror_mode": {
    "name": "ipython",
    "version": 2
   },
   "file_extension": ".py",
   "mimetype": "text/x-python",
   "name": "python",
   "nbconvert_exporter": "python",
   "pygments_lexer": "ipython2",
   "version": "2.7.6"
  }
 },
 "nbformat": 4,
 "nbformat_minor": 5
}
