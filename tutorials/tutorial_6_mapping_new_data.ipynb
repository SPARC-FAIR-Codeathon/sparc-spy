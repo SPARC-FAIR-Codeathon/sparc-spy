{
 "cells": [
  {
   "cell_type": "markdown",
   "source": [
    "# Tutorial 5: Hosting your documentation"
   ],
   "metadata": {
    "collapsed": false
   },
   "id": "d03514c760d3a4eb"
  },
  {
   "cell_type": "markdown",
   "source": [
    "This tutorial shows how to host your documentation on `Read the Docs` and `GitHub Pages`"
   ],
   "metadata": {
    "collapsed": false
   },
   "id": "57aec47ede64fbc1"
  },
  {
   "cell_type": "markdown",
   "source": [
    "## Hosting your documentation on Read the Docs\n",
    "\n",
    "[Read the Docs](https://readthedocs.org/dashboard) is a platform for building, versioning and hosting documentation for software project. It will automatically update your documentation when new changes pushed to the code repository.\n",
    "\n",
    "It is free for public repositories but requires paid subscription for private repositories\n",
    "\n",
    "See [here](https://research-software-development-tutorials.readthedocs.io/en/latest/beginner/documenting_code/hosting_documentation.html#open-source-documentation) for instructions on how to create a Read the Docs account and import/host your documentation Read the Docs "
   ],
   "metadata": {
    "collapsed": false
   },
   "id": "6a67cce2a77daa55"
  },
  {
   "cell_type": "markdown",
   "source": [
    "## Hosting your documentation on GitHub Pages\n",
    "\n",
    "[GitHub Pages](https://docs.github.com/en/pages/getting-started-with-github-pages/about-github-pages) is a static site hosting service provided by GitHub. It can be used for hosting your locally built documentation for private repository.\n",
    "\n",
    "**_NOTE:_**: GitHub Pages is available in public repositories with GitHub Free and GitHub Free for organizations, and in public and private repositories with GitHub Pro, GitHub Team, GitHub Enterprise Cloud, and GitHub Enterprise Serve"
   ],
   "metadata": {
    "collapsed": false
   },
   "id": "35bcdf6e280e054c"
  },
  {
   "cell_type": "markdown",
   "source": [
    "Here, we will use the npm package `gh-pages` to push the documentation you built locally to GitHub Pages.\n",
    "Run the command below to install `gh-pages`:\n",
    "\n",
    "```bash\n",
    "npm install -g --silent gh-pages@2.1.1\n",
    "```"
   ],
   "metadata": {
    "collapsed": false
   },
   "id": "900af2cd9f1a4717"
  },
  {
   "cell_type": "markdown",
   "source": [
    "The command below will automatically create a new branch called `gh-pages` and update your repositories settings to host the new branch on GitHub Pages:\n",
    "\n",
    "```bash\n",
    "gh-pages --dotfiles --message \"[skip ci] Updates\" --dist docs/build\n",
    "```"
   ],
   "metadata": {
    "collapsed": false
   },
   "id": "d9d96e2e9d5ef871"
  }
 ],
 "metadata": {
  "kernelspec": {
   "display_name": "Python 3",
   "language": "python",
   "name": "python3"
  },
  "language_info": {
   "codemirror_mode": {
    "name": "ipython",
    "version": 2
   },
   "file_extension": ".py",
   "mimetype": "text/x-python",
   "name": "python",
   "nbconvert_exporter": "python",
   "pygments_lexer": "ipython2",
   "version": "2.7.6"
  }
 },
 "nbformat": 4,
 "nbformat_minor": 5
}
