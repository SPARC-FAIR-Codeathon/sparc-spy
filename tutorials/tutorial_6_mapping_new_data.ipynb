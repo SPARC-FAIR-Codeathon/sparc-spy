{
 "cells": [
  {
   "cell_type": "markdown",
   "id": "d03514c760d3a4eb",
   "metadata": {
    "collapsed": false
   },
   "source": [
    "# Tutorial 6: Mapping new data"
   ]
  },
  {
   "cell_type": "markdown",
   "id": "57aec47ede64fbc1",
   "metadata": {
    "collapsed": false
   },
   "source": [
    "This tutorial shows how to host your documentation on `Read the Docs` and `GitHub Pages`"
   ]
  },
  {
   "cell_type": "markdown",
   "id": "311fa846",
   "metadata": {},
   "source": [
    "## Setting up\n",
    "\n",
    "You should ensure that you have all dependencies installed as outlined in tutorial 1. \n"
   ]
  }
 ],
 "metadata": {
  "kernelspec": {
   "display_name": "Python 3",
   "language": "python",
   "name": "python3"
  },
  "language_info": {
   "codemirror_mode": {
    "name": "ipython",
    "version": 2
   },
   "file_extension": ".py",
   "mimetype": "text/x-python",
   "name": "python",
   "nbconvert_exporter": "python",
   "pygments_lexer": "ipython2",
   "version": "2.7.6"
  }
 },
 "nbformat": 4,
 "nbformat_minor": 5
}
