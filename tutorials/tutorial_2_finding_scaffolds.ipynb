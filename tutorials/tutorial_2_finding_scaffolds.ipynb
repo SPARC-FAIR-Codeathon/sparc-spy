{
 "cells": [
  {
   "cell_type": "markdown",
   "source": [
    "# Tutorial 2: reStructuredText (RST) basics & exercises"
   ],
   "metadata": {
    "collapsed": false
   },
   "id": "d03514c760d3a4eb"
  },
  {
   "cell_type": "markdown",
   "source": [
    "This tutorial provides exercises to help you familiar with the basic syntax of the reStructuredText (RST) markup language"
   ],
   "metadata": {
    "collapsed": false
   },
   "id": "57aec47ede64fbc1"
  },
  {
   "cell_type": "markdown",
   "source": [
    "## RST Basics"
   ],
   "metadata": {
    "collapsed": false
   },
   "id": "baa5dc3cd1264c9"
  },
  {
   "cell_type": "markdown",
   "source": [
    "Please read the [RST section in the markup language documentation](https://research-software-development-tutorials.readthedocs.io/en/latest/beginner/documenting_code/languages.html#rest)"
   ],
   "metadata": {
    "collapsed": false
   },
   "id": "d89d6d4305c14ca9"
  },
  {
   "cell_type": "markdown",
   "source": [
    "## Exercises"
   ],
   "metadata": {
    "collapsed": false
   },
   "id": "55da7db10945364e"
  },
  {
   "cell_type": "markdown",
   "source": [
    "### Exercise 1: Basic Text Formatting\n",
    "\n",
    "Create an RST file named `my_rst_doc.rst` that includes the following elements:\n",
    "\n",
    "- A title for the document.\n",
    "- Three sections with different headings (e.g., \"Introduction,\" \"Main Content,\" \"Conclusion\").\n",
    "- At least two paragraphs of text.\n",
    "- One sentence in bold and another in italics."
   ],
   "metadata": {
    "collapsed": false
   },
   "id": "92fd8c513f9ed908"
  },
  {
   "cell_type": "markdown",
   "source": [
    "### Exercise 2: Lists\n",
    "\n",
    "In your RST document, create:\n",
    "\n",
    "- a bullet point list of your favorite restaurants around ABI.\n",
    "- a numbered list of your top three favorite movies.\n"
   ],
   "metadata": {
    "collapsed": false
   },
   "id": "5d813bd5b7574aa8"
  },
  {
   "cell_type": "markdown",
   "source": [
    "### Exercise 3: Links and images\n",
    "\n",
    "In your RST document: \n",
    "\n",
    "   - create a hyperlink to the GitHub website (https://github.com/).\n",
    "   - Embed any image to your RST document"
   ],
   "metadata": {
    "collapsed": false
   },
   "id": "761da932b53b2a4"
  },
  {
   "cell_type": "markdown",
   "source": [
    "### Exercise 4: Code Blocks\n",
    "\n",
    "In your RST document, add a Python code block that prints \"Hello Kitty\"\n"
   ],
   "metadata": {
    "collapsed": false
   },
   "id": "ff124edf3cb676a0"
  }
 ],
 "metadata": {
  "kernelspec": {
   "display_name": "Python 3",
   "language": "python",
   "name": "python3"
  },
  "language_info": {
   "codemirror_mode": {
    "name": "ipython",
    "version": 2
   },
   "file_extension": ".py",
   "mimetype": "text/x-python",
   "name": "python",
   "nbconvert_exporter": "python",
   "pygments_lexer": "ipython2",
   "version": "2.7.6"
  }
 },
 "nbformat": 4,
 "nbformat_minor": 5
}
