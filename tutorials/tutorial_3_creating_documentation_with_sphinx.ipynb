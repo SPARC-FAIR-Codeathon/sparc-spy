{
 "cells": [
  {
   "cell_type": "markdown",
   "source": [
    "# Tutorial 3: Creating documentation with phinx"
   ],
   "metadata": {
    "collapsed": false
   },
   "id": "d03514c760d3a4eb"
  },
  {
   "cell_type": "markdown",
   "source": [
    "In this tutorial, you will learn how to create a new documentation with Sphinx from Command-line and PyCharm."
   ],
   "metadata": {
    "collapsed": false
   },
   "id": "de794115954b0e1d"
  },
  {
   "cell_type": "markdown",
   "source": [
    "## Setting up a Sphinx project\n",
    "\n",
    "You download and use the `docs` folder from this repository to set up your Sphinx project. See and update the Sphinx configuration file `docs/source/conf.py`.\n",
    "\n",
    "\n",
    "Otherwise, see [Setting up a Sphinx project](https://research-software-development-tutorials.readthedocs.io/en/latest/beginner/documenting_code/creating_new_documentation.html#setting-up-a-sphinx-project)\n",
    "\n"
   ],
   "metadata": {
    "collapsed": false
   },
   "id": "9dd19f8d8572a6c5"
  },
  {
   "cell_type": "markdown",
   "source": [
    "## Building Sphinx documentation"
   ],
   "metadata": {
    "collapsed": false
   },
   "id": "b193cf6e4057c411"
  },
  {
   "cell_type": "markdown",
   "source": [
    "### From the command line\n",
    "\n",
    "[From the command line](https://research-software-development-tutorials.readthedocs.io/en/latest/beginner/documenting_code/creating_new_documentation.html#from-the-command-line)"
   ],
   "metadata": {
    "collapsed": false
   },
   "id": "b0d8bf902ed4609d"
  },
  {
   "cell_type": "markdown",
   "source": [
    "### From PyCharm\n",
    "\n",
    "[From PyCharm](https://research-software-development-tutorials.readthedocs.io/en/latest/beginner/documenting_code/updating_documentation.html#updating-documentation-with-pycharm)"
   ],
   "metadata": {
    "collapsed": false
   },
   "id": "70a8991896fbf550"
  }
 ],
 "metadata": {
  "kernelspec": {
   "display_name": "Python 3",
   "language": "python",
   "name": "python3"
  },
  "language_info": {
   "codemirror_mode": {
    "name": "ipython",
    "version": 2
   },
   "file_extension": ".py",
   "mimetype": "text/x-python",
   "name": "python",
   "nbconvert_exporter": "python",
   "pygments_lexer": "ipython2",
   "version": "2.7.6"
  }
 },
 "nbformat": 4,
 "nbformat_minor": 5
}
