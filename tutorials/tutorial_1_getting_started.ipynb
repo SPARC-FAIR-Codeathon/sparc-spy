{
 "cells": [
  {
   "cell_type": "markdown",
   "id": "d03514c760d3a4eb",
   "metadata": {
    "collapsed": false,
    "jupyter": {
     "outputs_hidden": false
    }
   },
   "source": [
    "# Tutorial 1: Exploring Scafold-based Datasets"
   ]
  },
  {
   "cell_type": "markdown",
   "id": "aaeecad8-3b95-4f4c-8d42-890e51f94fec",
   "metadata": {
    "collapsed": false,
    "jupyter": {
     "outputs_hidden": false
    }
   },
   "source": [
    "In this tutorial, you will get these ideas on using `sparc_SPy` to interact with SPARC datasets using Pennsieve API. The tutorial will allow you to view the different scaffold-based datasets available on Pennsieve, download the dataset & visualise it.\n",
    "\n",
    "Before running the examples, you must ensure you've installed these dependencies.\n",
    "\n",
    "`pip install -r requirements`\n"
   ]
  },
  {
   "cell_type": "markdown",
   "id": "dd40a5702dab76bd",
   "metadata": {
    "collapsed": false,
    "jupyter": {
     "outputs_hidden": false
    }
   },
   "source": [
    "## Visualising the list of scaffold-based datasets"
   ]
  },
  {
   "cell_type": "markdown",
   "id": "8931eb01-0160-4c0a-a2ff-954c3f8f119e",
   "metadata": {},
   "source": [
    "The below function will display the list of dataset available on Pennsieve containing scaffold-based data. You can also save tabular information to a csv file using the `save_csv` argument. "
   ]
  },
  {
   "cell_type": "code",
   "execution_count": null,
   "id": "b8932dc9-6584-4325-8712-84b245020fd5",
   "metadata": {
    "collapsed": false,
    "jupyter": {
     "outputs_hidden": false
    }
   },
   "outputs": [],
   "source": [
    "from sparc_spy.util import get_scafold_based_datasets\n",
    "\n",
    "get_scafold_based_datasets(save_csv=False)"
   ]
  },
  {
   "cell_type": "markdown",
   "id": "ca946869-37b0-48d9-8ad2-3b4ba0d02570",
   "metadata": {},
   "source": [
    "## Dowloading a specific dataset"
   ]
  },
  {
   "cell_type": "markdown",
   "id": "9fd5e8cc96ff5458",
   "metadata": {
    "collapsed": false,
    "jupyter": {
     "outputs_hidden": false
    }
   },
   "source": [
    "The dataset to be downloaded can be picked from the above table. The Dataset ID can be used as the key to download the dataset. "
   ]
  },
  {
   "cell_type": "code",
   "execution_count": null,
   "id": "8796b6a8-7379-4afb-abf0-520f0510c002",
   "metadata": {},
   "outputs": [],
   "source": [
    "from sparc_me import Dataset_Api\n",
    "\n",
    "Dataset_Api().download_dataset(398)"
   ]
  },
  {
   "cell_type": "markdown",
   "id": "ea81c409-e171-4910-9f67-296c2ee79ab6",
   "metadata": {
    "vscode": {
     "languageId": "plaintext"
    }
   },
   "source": [
    "## Visualising the scaffold"
   ]
  },
  {
   "cell_type": "markdown",
   "id": "be6e64fb-2654-409d-b71e-76304503692d",
   "metadata": {},
   "source": [
    "The scaffold present within the dataset can be visualised using the below example. While it may not be interactive within the jupyter notebook, the code itself generates an interactive simulation which can be accessed either using any IDE supporting python. Or some configurations could be made in the jupyter notebook, however it may crash the notebook itself."
   ]
  },
  {
   "cell_type": "code",
   "execution_count": null,
   "id": "d633ad89",
   "metadata": {
    "vscode": {
     "languageId": "plaintext"
    }
   },
   "outputs": [],
   "source": [
    "from sparc_spy.scaffold import Scaffold\n",
    "\n",
    "scaffold = Scaffold(\"rat_gut\", derivative_dir=\"../example/files/derivative\")\n",
    "scaffold.plot();"
   ]
  },
  {
   "cell_type": "markdown",
   "id": "e98e1ab5-10b7-4f1c-968e-a5910f2bd1ae",
   "metadata": {},
   "source": [
    "A sample of the expected interactive simulation is shared below."
   ]
  },
  {
   "cell_type": "code",
   "execution_count": null,
   "id": "be119a90-7ddc-4e47-87e1-268a16ec1ea3",
   "metadata": {},
   "outputs": [],
   "source": [
    "from IPython.display import Image\n",
    "\n",
    "Image(open('images/1.gif','rb').read())"
   ]
  },
  {
   "cell_type": "code",
   "execution_count": null,
   "id": "95e71cce-a5ad-4088-8c6d-360d4be04e2d",
   "metadata": {},
   "outputs": [],
   "source": []
  }
 ],
 "metadata": {
  "kernelspec": {
   "display_name": "Python 3 (ipykernel)",
   "language": "python",
   "name": "python3"
  },
  "language_info": {
   "codemirror_mode": {
    "name": "ipython",
    "version": 3
   },
   "file_extension": ".py",
   "mimetype": "text/x-python",
   "name": "python",
   "nbconvert_exporter": "python",
   "pygments_lexer": "ipython3",
   "version": "3.10.12"
  }
 },
 "nbformat": 4,
 "nbformat_minor": 5
}
