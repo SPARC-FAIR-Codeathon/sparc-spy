{
 "cells": [
  {
   "cell_type": "markdown",
   "source": [
    "# Tutorial 1: Getting started"
   ],
   "metadata": {
    "collapsed": false
   },
   "id": "d03514c760d3a4eb"
  },
  {
   "cell_type": "markdown",
   "source": [
    "This tutorial shows how to create a Python project repository from this template repository on GitHub and set up your local development environment\n",
    "\n"
   ],
   "metadata": {
    "collapsed": false
   },
   "id": "57aec47ede64fbc1"
  },
  {
   "cell_type": "markdown",
   "source": [
    "## Creating a repository from template"
   ],
   "metadata": {
    "collapsed": false
   },
   "id": "dd40a5702dab76bd"
  },
  {
   "cell_type": "markdown",
   "source": [
    "Open the [link](https://github.com/LIN810116/python-project-template/tree/main) of the template on your browser\n"
   ],
   "metadata": {
    "collapsed": false
   },
   "id": "39d70a75b3358d46"
  },
  {
   "cell_type": "markdown",
   "source": [
    "See the GitHub documentation for [Creating a repository from a template](https://docs.github.com/en/repositories/creating-and-managing-repositories/creating-a-repository-from-a-template#creating-a-repository-from-a-template)\n"
   ],
   "metadata": {
    "collapsed": false
   },
   "id": "9fd5e8cc96ff5458"
  },
  {
   "cell_type": "markdown",
   "source": [
    "Once created, you can clone the repository to create a local copy on your computer using Git. See [Cloning a repository](https://docs.github.com/en/repositories/creating-and-managing-repositories/cloning-a-repository)"
   ],
   "metadata": {
    "collapsed": false
   },
   "id": "5fe4e8c44ed5b0a1"
  },
  {
   "cell_type": "markdown",
   "source": [
    "### Explore the repository\n",
    "Read [ABOUT_THIS_TEMPLATE.md](../ABOUT_THIS_TEMPLATE.md)\n"
   ],
   "metadata": {
    "collapsed": false
   },
   "id": "b893155467fea586"
  },
  {
   "cell_type": "markdown",
   "source": [
    "## Setting up your development environment"
   ],
   "metadata": {
    "collapsed": false
   },
   "id": "8ceb452f1430b9e2"
  },
  {
   "cell_type": "markdown",
   "source": [
    "It is recommended to use a virtual environment for each Python project to avoid any dependency issues. A Pycharm virtual environment can be created from the command-line prompt (e.g. Windows PowerShell or Linux Terminal) or most of the Python editors (e.g. PyCharm)."
   ],
   "metadata": {
    "collapsed": false
   },
   "id": "21e638398f146484"
  },
  {
   "cell_type": "markdown",
   "source": [
    "### Creating virtual environment from the command-line\n"
   ],
   "metadata": {
    "collapsed": false
   },
   "id": "dc3eb134655f0975"
  },
  {
   "cell_type": "markdown",
   "source": [
    "```console\n",
    "python -m venv {VENV_NAME}\n",
    "```\n",
    "or\n",
    "```console\n",
    "python3 -m venv {VENV_NAME}\n",
    "```\n",
    "where **{VENV_NAME}** is the folder name of the virtual environment.\n",
    "This command will create a virtual environment in a new folder named {VENV_NAME} in the current working directory."
   ],
   "metadata": {
    "collapsed": false
   },
   "id": "69d95843771539f8"
  },
  {
   "cell_type": "markdown",
   "source": [
    "### Activate a virtual environment"
   ],
   "metadata": {
    "collapsed": false
   },
   "id": "1e140737e42f42a1"
  },
  {
   "cell_type": "markdown",
   "source": [
    "Linux and Mac\n",
    "```console\n",
    "source {VENV_NAME}/bin/activate\n",
    "```\n",
    "Windows\n",
    "```console\n",
    "{VENV_NAME}\\Scripts\\activate\n",
    "```"
   ],
   "metadata": {
    "collapsed": false
   },
   "id": "dc580578d1ccfe12"
  },
  {
   "cell_type": "markdown",
   "source": [
    "### Creating virtual environment from the PyCharm\n",
    "See [Create a virtualenv environment](https://www.jetbrains.com/help/pycharm/creating-virtual-environment.html#0)"
   ],
   "metadata": {
    "collapsed": false
   },
   "id": "b647c46d91468ec1"
  },
  {
   "cell_type": "markdown",
   "source": [
    "## Managing Python dependencies using PyPI\n"
   ],
   "metadata": {
    "collapsed": false
   },
   "id": "5bae755eb4e0c018"
  },
  {
   "cell_type": "markdown",
   "source": [
    "```console\n",
    "pip install -r requirements-dev.txt\n",
    "```"
   ],
   "metadata": {
    "collapsed": false
   },
   "id": "c968ae2adf6031df"
  },
  {
   "cell_type": "markdown",
   "source": [],
   "metadata": {
    "collapsed": false
   },
   "id": "ed3e508a02ab38f6"
  }
 ],
 "metadata": {
  "kernelspec": {
   "display_name": "Python 3",
   "language": "python",
   "name": "python3"
  },
  "language_info": {
   "codemirror_mode": {
    "name": "ipython",
    "version": 2
   },
   "file_extension": ".py",
   "mimetype": "text/x-python",
   "name": "python",
   "nbconvert_exporter": "python",
   "pygments_lexer": "ipython2",
   "version": "2.7.6"
  }
 },
 "nbformat": 4,
 "nbformat_minor": 5
}
