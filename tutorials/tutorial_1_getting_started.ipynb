{
 "cells": [
  {
   "cell_type": "markdown",
   "id": "d03514c760d3a4eb",
   "metadata": {
    "collapsed": false,
    "jupyter": {
     "outputs_hidden": false
    }
   },
   "source": [
    "# Tutorial 1: Getting started with SPARC-SPy"
   ]
  },
  {
   "cell_type": "markdown",
   "id": "aaeecad8-3b95-4f4c-8d42-890e51f94fec",
   "metadata": {
    "collapsed": false,
    "jupyter": {
     "outputs_hidden": false
    }
   },
   "source": [
    "In this series of tutorials, you will get a general idea of how to use `sparc_SPy`. \n",
    "\n",
    "This tutorial is an introduction to viewing a scaffold-based dataset. The dataset being used as the example could be found in `tutorials\\example`.\n",
    "\n",
    "Before running the examples, you must ensure you've installed these dependencies.\n",
    "\n",
    "`pip install -r requirements`\n"
   ]
  },
  {
   "cell_type": "markdown",
   "id": "ea81c409-e171-4910-9f67-296c2ee79ab6",
   "metadata": {
    "vscode": {
     "languageId": "plaintext"
    }
   },
   "source": [
    "## Visualising the scaffold"
   ]
  },
  {
   "cell_type": "markdown",
   "id": "be6e64fb-2654-409d-b71e-76304503692d",
   "metadata": {},
   "source": [
    "The scaffold present within the dataset can be visualised using the below example. While it may not be interactive within the Jupyter Notebook, the code itself generates an interactive simulation that can be accessed using any IDE supporting Python. Some configurations (given below) could also be made in the jupyter notebook. However, it may crash the notebook itself.\n",
    "\n",
    "`pip install \"pyvista[jupyter]`"
   ]
  },
  {
   "cell_type": "code",
   "execution_count": null,
   "id": "d633ad89",
   "metadata": {
    "vscode": {
     "languageId": "plaintext"
    }
   },
   "outputs": [],
   "source": [
    "from sparc_spy.scaffold import Scaffold\n",
    "\n",
    "scaffold = Scaffold(\"rat_gut\", derivative_dir=\"example/rat_gut/files/derivative\")\n",
    "scaffold.plot();"
   ]
  },
  {
   "cell_type": "markdown",
   "id": "e98e1ab5-10b7-4f1c-968e-a5910f2bd1ae",
   "metadata": {},
   "source": [
    "## Examples of the Generated Interactive Visualisation"
   ]
  },
  {
   "cell_type": "markdown",
   "id": "84d70601-33bb-473a-ab56-20db751940ba",
   "metadata": {},
   "source": [
    "A sample of the expected interactive simulation is shared below. "
   ]
  },
  {
   "cell_type": "code",
   "execution_count": null,
   "id": "be119a90-7ddc-4e47-87e1-268a16ec1ea3",
   "metadata": {},
   "outputs": [],
   "source": [
    "from IPython.display import Image\n",
    "\n",
    "Image(open('images/1.gif','rb').read())"
   ]
  },
  {
   "cell_type": "markdown",
   "id": "9c5a0680-917f-437b-b3ea-ffc2926b7bd6",
   "metadata": {},
   "source": [
    "The below example was mapped using the pig heart scaffold. This dataset can be downloaded by following tutorial 2. "
   ]
  },
  {
   "cell_type": "code",
   "execution_count": null,
   "id": "a78def9d-8c9d-4677-97d8-dde5d7a6b6c5",
   "metadata": {},
   "outputs": [],
   "source": [
    "Image(open('images/2.gif','rb').read())"
   ]
  },
  {
   "cell_type": "markdown",
   "id": "a2c74917-3181-4acd-a105-cbdd9edaeb24",
   "metadata": {},
   "source": [
    "## Updating Missing Tags"
   ]
  },
  {
   "cell_type": "markdown",
   "id": "1268c379-f15e-4477-92ff-8b8728606161",
   "metadata": {},
   "source": [
    "In reference to the first example, some scaffolds may have missing metadata tags. Below example can be used to update the missing tags."
   ]
  },
  {
   "cell_type": "code",
   "execution_count": null,
   "id": "2b9ce9a6-0d65-47c4-8e38-54205ffc2bec",
   "metadata": {},
   "outputs": [],
   "source": [
    "scaffold.update_mesh_label(original_name=\"unnamed\", new_name=\"whole_stomach\")"
   ]
  }
 ],
 "metadata": {
  "kernelspec": {
   "display_name": "Python 3 (ipykernel)",
   "language": "python",
   "name": "python3"
  },
  "language_info": {
   "codemirror_mode": {
    "name": "ipython",
    "version": 3
   },
   "file_extension": ".py",
   "mimetype": "text/x-python",
   "name": "python",
   "nbconvert_exporter": "python",
   "pygments_lexer": "ipython3",
   "version": "3.10.12"
  }
 },
 "nbformat": 4,
 "nbformat_minor": 5
}
