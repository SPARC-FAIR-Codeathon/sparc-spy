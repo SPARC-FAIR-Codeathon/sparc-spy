{
 "cells": [
  {
   "cell_type": "markdown",
   "id": "d03514c760d3a4eb",
   "metadata": {
    "collapsed": false
   },
   "source": [
    "# Tutorial 1: Getting started"
   ]
  },
  {
   "cell_type": "markdown",
   "id": "57aec47ede64fbc1",
   "metadata": {
    "collapsed": false
   },
   "source": [
    "This tutorial shows the process of importing a scaffold from\n",
    " o<sup>2</sup>S<sup>2</sup>PARC"
   ]
  },
  {
   "cell_type": "markdown",
   "id": "dd40a5702dab76bd",
   "metadata": {
    "collapsed": false
   },
   "source": [
    "## Creating a jupyter notebook in o<sup>2</sup>S<sup>2</sup>PARC"
   ]
  },
  {
   "cell_type": "markdown",
   "id": "39d70a75b3358d46",
   "metadata": {
    "collapsed": false
   },
   "source": [
    "Login to o<sup>2</sup>S<sup>2</sup>PARC through the link [here](https://osparc.io)\n",
    "Open the JupyterLab service (Services > JupyterLab)\n",
    "Create a new Jupyter Notebook (Right click + Workspace > New Notebook)\n",
    "\n"
   ]
  },
  {
   "cell_type": "markdown",
   "id": "9fd5e8cc96ff5458",
   "metadata": {
    "collapsed": false
   },
   "source": [
    "Install dependencies: \n",
    "TODO"
   ]
  },
  {
   "cell_type": "markdown",
   "id": "5fe4e8c44ed5b0a1",
   "metadata": {
    "collapsed": false
   },
   "source": [
    "For this tutorial we are going to plot a visualisation from the #### dataset on Pennsieve. "
   ]
  },
  {
   "cell_type": "code",
   "execution_count": null,
   "id": "937e251d",
   "metadata": {
    "vscode": {
     "languageId": "plaintext"
    }
   },
   "outputs": [],
   "source": [
    "#TODO Code"
   ]
  },
  {
   "cell_type": "code",
   "execution_count": null,
   "id": "d633ad89",
   "metadata": {
    "vscode": {
     "languageId": "plaintext"
    }
   },
   "outputs": [],
   "source": [
    "In this example we have visualised a scaffold from a dataset within Pennsieve. "
   ]
  }
 ],
 "metadata": {
  "kernelspec": {
   "display_name": "Python 3",
   "language": "python",
   "name": "python3"
  },
  "language_info": {
   "codemirror_mode": {
    "name": "ipython",
    "version": 2
   },
   "file_extension": ".py",
   "mimetype": "text/x-python",
   "name": "python",
   "nbconvert_exporter": "python",
   "pygments_lexer": "ipython2",
   "version": "2.7.6"
  }
 },
 "nbformat": 4,
 "nbformat_minor": 5
}
