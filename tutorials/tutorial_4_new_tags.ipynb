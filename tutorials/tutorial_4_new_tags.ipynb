{
 "cells": [
  {
   "cell_type": "markdown",
   "id": "d03514c760d3a4eb",
   "metadata": {
    "collapsed": false
   },
   "source": [
    "# Tutorial 4: New tags"
   ]
  },
  {
   "cell_type": "markdown",
   "id": "57aec47ede64fbc1",
   "metadata": {
    "collapsed": false
   },
   "source": [
    "In this tutorial, you will learn how to tag a scaffold with a searchable descriptor. \n"
   ]
  },
  {
   "cell_type": "markdown",
   "id": "6a304b23",
   "metadata": {},
   "source": [
    "## Setting up\n",
    "\n",
    "You should ensure that you have all dependencies installed as outlined in tutorial 1. \n"
   ]
  },
  {
   "cell_type": "markdown",
   "id": "d7ab41a4",
   "metadata": {},
   "source": [
    "Here, we will load sparc_spy library to get the scaffold object as an example.\n",
    "\n",
    "** data is sourced from https://sparc.science/datasets/398?type=dataset"
   ]
  },
  {
   "cell_type": "markdown",
   "id": "45c8d47b",
   "metadata": {},
   "source": [
    "Note: If you would like to run the plot interactively please uncomment the following line."
   ]
  },
  {
   "cell_type": "code",
   "execution_count": 8,
   "id": "e0f5ff80",
   "metadata": {},
   "outputs": [],
   "source": [
    "# !pip install \"pyvista[jupyter]\""
   ]
  },
  {
   "cell_type": "markdown",
   "id": "4f05bdb8",
   "metadata": {},
   "source": [
    "Load dataset and get the scaffold object."
   ]
  },
  {
   "cell_type": "code",
   "execution_count": 9,
   "id": "8ea0f403",
   "metadata": {},
   "outputs": [
    {
     "name": "stdout",
     "output_type": "stream",
     "text": [
      "[Error] Missing tags in metadata entry. Value: [{'Type': 'View', 'URL': 'combined_Layout1_view.json'}]\n"
     ]
    }
   ],
   "source": [
    "from sparc_spy.scaffold import Scaffold\n",
    "derivative_dir=\"../example_data/files/derivative\"\n",
    "scaffold = Scaffold(\"rat_gut\", derivative_dir=derivative_dir)"
   ]
  },
  {
   "cell_type": "markdown",
   "id": "2c31c061",
   "metadata": {},
   "source": [
    "You can get all avaialable meshes names of the scaffold to verify that we have identified the correct scaffold object."
   ]
  },
  {
   "cell_type": "code",
   "execution_count": 10,
   "id": "40be0a4b",
   "metadata": {},
   "outputs": [
    {
     "name": "stdout",
     "output_type": "stream",
     "text": [
      "Avaialable meshes are:\n",
      "   vasculature\n",
      "   unnamed\n",
      "   pyloric_antrum\n",
      "   body_of_stomach\n",
      "\n"
     ]
    }
   ],
   "source": [
    "scaffold.get_mesh_details()"
   ]
  },
  {
   "cell_type": "markdown",
   "id": "3a459d7d",
   "metadata": {},
   "source": [
    "Interctive 3D visualization.\n",
    "\n",
    "Run scaffold.plot(), you will get the interctive 3D visualization. Interctive options as followes:\n",
    "1. Rotate the view by dragging the right mouse button.\n",
    "2. Pan the view by dragging the middle mouse button.\n",
    "3. Zoom the view by scrolling.\n",
    "4. Left click on checkboxes to activate or deactivate meshes.\n",
    "5. Right click on the mesh you are insterested in to get interctive options (positon, scale, opacity).\n",
    "6. Left click the mesh to show the label of vertex, and you can tag a scaffold with a searchable descriptor."
   ]
  },
  {
   "cell_type": "code",
   "execution_count": 11,
   "id": "d065abc6",
   "metadata": {},
   "outputs": [
    {
     "name": "stderr",
     "output_type": "stream",
     "text": [
      "c:\\Users\\gyun452\\AppData\\Local\\anaconda3\\envs\\pytorch\\Lib\\site-packages\\pyvista\\plotting\\picking.py:473: PyVistaDeprecationWarning: `use_mesh` is deprecated. See `use_picker` instead.\n",
      "  warnings.warn(\n"
     ]
    },
    {
     "data": {
      "application/vnd.jupyter.widget-view+json": {
       "model_id": "fcb225cea69f448fa5b1a7aabebb55c1",
       "version_major": 2,
       "version_minor": 0
      },
      "text/plain": [
       "Widget(value='<iframe src=\"http://localhost:57873/index.html?ui=P_0x21a470b4c90_2&reconnect=auto\" class=\"pyvis…"
      ]
     },
     "metadata": {},
     "output_type": "display_data"
    }
   ],
   "source": [
    "scaffold.plot(notebook=True)"
   ]
  },
  {
   "cell_type": "markdown",
   "id": "e8ce53e1",
   "metadata": {},
   "source": [
    "When you change the labels of the mesh, the plot will be updated accordingly, and you can show it again to check."
   ]
  },
  {
   "cell_type": "code",
   "execution_count": 12,
   "id": "d33c2877",
   "metadata": {},
   "outputs": [],
   "source": [
    "scaffold.update_mesh_label(original_name=\"unnamed\", new_name=\"whole_stomach\")"
   ]
  },
  {
   "cell_type": "code",
   "execution_count": 13,
   "id": "b8c58d65",
   "metadata": {},
   "outputs": [
    {
     "name": "stderr",
     "output_type": "stream",
     "text": [
      "c:\\Users\\gyun452\\AppData\\Local\\anaconda3\\envs\\pytorch\\Lib\\site-packages\\pyvista\\plotting\\picking.py:473: PyVistaDeprecationWarning: `use_mesh` is deprecated. See `use_picker` instead.\n",
      "  warnings.warn(\n"
     ]
    },
    {
     "data": {
      "application/vnd.jupyter.widget-view+json": {
       "model_id": "ec3071ed70e4426d93d8f0ac627eb667",
       "version_major": 2,
       "version_minor": 0
      },
      "text/plain": [
       "Widget(value='<iframe src=\"http://localhost:57873/index.html?ui=P_0x21a3c946ad0_3&reconnect=auto\" class=\"pyvis…"
      ]
     },
     "metadata": {},
     "output_type": "display_data"
    }
   ],
   "source": [
    "scaffold.plot(notebook=True)"
   ]
  },
  {
   "cell_type": "markdown",
   "id": "e4b18c98",
   "metadata": {},
   "source": [
    "When you finished, you can save the multiple meshes as a 3D visualization file (.stl). "
   ]
  },
  {
   "cell_type": "code",
   "execution_count": 14,
   "id": "78682436",
   "metadata": {},
   "outputs": [],
   "source": [
    "scaffold.export(\"output.stl\")"
   ]
  }
 ],
 "metadata": {
  "kernelspec": {
   "display_name": "Python 3",
   "language": "python",
   "name": "python3"
  },
  "language_info": {
   "codemirror_mode": {
    "name": "ipython",
    "version": 3
   },
   "file_extension": ".py",
   "mimetype": "text/x-python",
   "name": "python",
   "nbconvert_exporter": "python",
   "pygments_lexer": "ipython3",
   "version": "3.11.5"
  }
 },
 "nbformat": 4,
 "nbformat_minor": 5
}
