{
 "cells": [
  {
   "cell_type": "markdown",
   "source": [
    "# Tutorial 4: Documenting source code"
   ],
   "metadata": {
    "collapsed": false
   },
   "id": "d03514c760d3a4eb"
  },
  {
   "cell_type": "markdown",
   "source": [
    "In this tutorial, you will learn how to document your source code using the reStructuredText(RST) docstring style, and automatically generating API documentation from docstrings"
   ],
   "metadata": {
    "collapsed": false
   },
   "id": "57aec47ede64fbc1"
  },
  {
   "cell_type": "markdown",
   "source": [
    "## Documenting your source code in RST\n",
    "\n",
    "See [here](https://research-software-development-tutorials.readthedocs.io/en/latest/beginner/documenting_code/source_code.html#documenting-python-source-code-with-docstrings-in-ides) to learn how to add docstrings to your code in PyCharm\n",
    "\n",
    "See [here](https://thomas-cokelaer.info/tutorials/sphinx/docstring_python.html#template.MainClass1) for more RST docstrings examples. \n"
   ],
   "metadata": {
    "collapsed": false
   },
   "id": "6aadac1173cb017a"
  },
  {
   "cell_type": "markdown",
   "source": [
    "## RST docstring exercises"
   ],
   "metadata": {
    "collapsed": false
   },
   "id": "375f51784d8b9985"
  },
  {
   "cell_type": "markdown",
   "source": [
    "### Exercise 1\n",
    "Add docstring to the function below"
   ],
   "metadata": {
    "collapsed": false
   },
   "id": "fe2d05b8a5ef0dff"
  },
  {
   "cell_type": "code",
   "execution_count": 80,
   "outputs": [],
   "source": [
    "def greet(name):\n",
    "    \"\"\"\n",
    "    SUMMARY\n",
    "    \n",
    "    :param name: \n",
    "    :type name: \n",
    "    :return: \n",
    "    :rtype: \n",
    "    \"\"\"\n",
    "    my_string = \"Hello {name}\".format(name=name)\n",
    "    print(my_string)"
   ],
   "metadata": {
    "collapsed": false,
    "ExecuteTime": {
     "end_time": "2023-10-01T14:08:06.599908700Z",
     "start_time": "2023-10-01T14:08:06.563143300Z"
    }
   },
   "id": "e610b808910f004f"
  },
  {
   "cell_type": "markdown",
   "source": [
    "### Exercise 2\n",
    "Add docstring to the function below"
   ],
   "metadata": {
    "collapsed": false
   },
   "id": "d1a8ab673b14a52f"
  },
  {
   "cell_type": "code",
   "execution_count": 81,
   "outputs": [],
   "source": [
    "def multiply_numbers(a, b):\n",
    "    \"\"\"\n",
    "    TODO\n",
    "    \"\"\"\n",
    "    \n",
    "    result = a * b\n",
    "    return result"
   ],
   "metadata": {
    "collapsed": false,
    "ExecuteTime": {
     "end_time": "2023-10-01T14:08:06.638941500Z",
     "start_time": "2023-10-01T14:08:06.582063400Z"
    }
   },
   "id": "3b84f130aa78843b"
  },
  {
   "cell_type": "markdown",
   "source": [
    "### Exercise 3\n",
    "In this exercise, you will practice documenting a Python class named Person using RST docstrings. Follow the provided instructions to add docstrings to the class and its methods."
   ],
   "metadata": {
    "collapsed": false
   },
   "id": "bde2a400fcfcaecf"
  },
  {
   "cell_type": "markdown",
   "source": [
    "1. Create a Python class named Person with the following attributes and methods:\n",
    "   - Attributes:\n",
    "      - `first_name`\n",
    "      - `last_name`\n",
    "   - Methods:\n",
    "      - `__init__(self, first_name, last_name, age)`: Initializes a new Person object with the provided attributes.\n",
    "      - `get_full_name(self)`: Returns the full name of the person in the format \"first_name last_name\"\n",
    "2. Add meaningful RST docstrings to the Person class and its methods. "
   ],
   "metadata": {
    "collapsed": false
   },
   "id": "76955491e40d510e"
  },
  {
   "cell_type": "code",
   "execution_count": 82,
   "outputs": [],
   "source": [
    "# TODO. Your answer here"
   ],
   "metadata": {
    "collapsed": false,
    "ExecuteTime": {
     "end_time": "2023-10-01T14:08:06.638941500Z",
     "start_time": "2023-10-01T14:08:06.599908700Z"
    }
   },
   "id": "b7d784abb1589067"
  },
  {
   "cell_type": "code",
   "execution_count": 83,
   "outputs": [],
   "source": [
    "# example\n",
    "class Person:\n",
    "    \"\"\"\n",
    "    A class representing a person.\n",
    "    \n",
    "    This class defines attributes and methods for managing information\n",
    "    about individuals.\n",
    "    \n",
    "    :param first_name: The first name of the person.\n",
    "    :type first_name: str\n",
    "    :param last_name: The last name of the person.\n",
    "    :type last_name: str\n",
    "    :param age: The age of the person.\n",
    "    :type age: int\n",
    "    \"\"\"\n",
    "    def __init__(self, first_name, last_name):\n",
    "        \"\"\"\n",
    "        Initialize a new Person object.\n",
    "        \n",
    "        :param first_name: The first name of the person.\n",
    "        :type first_name: str\n",
    "        :param last_name: The last name of the person.\n",
    "        :type last_name: str\n",
    "        \"\"\"\n",
    "        self.first_name = first_name\n",
    "        self.last_name = last_name\n",
    "    \n",
    "    def get_full_name(self):\n",
    "        \"\"\"\n",
    "        Get the full name of the person.\n",
    "        \n",
    "        :return: The full name in the format \"first_name last_name\".\n",
    "        :rtype: str\n",
    "        \"\"\"\n",
    "        full_name = self.first_name + ' ' + self.first_name\n",
    "        \n",
    "        return full_name\n",
    "        "
   ],
   "metadata": {
    "collapsed": false,
    "ExecuteTime": {
     "end_time": "2023-10-01T14:08:06.638941500Z",
     "start_time": "2023-10-01T14:08:06.618939700Z"
    }
   },
   "id": "ad4d6e4ccd7dcd2f"
  },
  {
   "cell_type": "markdown",
   "source": [
    "## Automatically generating API documentation from docstrings\n",
    "\n",
    "[Generating api documentation using sphinx-autoapi](https://sphinx-autoapi.readthedocs.io/en/latest/tutorials.html#setting-up-automatic-api-documentation-generation)\n",
    "\n",
    "If you use the `docs` folder from this repository, you can just simply update the `docs/source/conf.py` file to set autoapi_dirs to the name of your Python package(s), e.g.  ``autoapi_dirs = ['../../package_name']``. then rebuild the documentation (see tutorial 3)."
   ],
   "metadata": {
    "collapsed": false
   },
   "id": "4fe032227f0dce49"
  }
 ],
 "metadata": {
  "kernelspec": {
   "display_name": "Python 3",
   "language": "python",
   "name": "python3"
  },
  "language_info": {
   "codemirror_mode": {
    "name": "ipython",
    "version": 2
   },
   "file_extension": ".py",
   "mimetype": "text/x-python",
   "name": "python",
   "nbconvert_exporter": "python",
   "pygments_lexer": "ipython2",
   "version": "2.7.6"
  }
 },
 "nbformat": 4,
 "nbformat_minor": 5
}
